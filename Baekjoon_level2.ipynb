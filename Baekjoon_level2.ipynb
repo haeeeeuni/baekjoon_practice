{
 "cells": [
  {
   "cell_type": "code",
   "execution_count": null,
   "id": "e48fe827",
   "metadata": {},
   "outputs": [],
   "source": [
    "#Baekjoon level 2 - conditions"
   ]
  },
  {
   "cell_type": "code",
   "execution_count": 2,
   "id": "4c940357",
   "metadata": {},
   "outputs": [
    {
     "name": "stdout",
     "output_type": "stream",
     "text": [
      "1 2\n",
      "<\n"
     ]
    }
   ],
   "source": [
    "#1330\n",
    "a, b = input().split()\n",
    "\n",
    "a = int(a)\n",
    "b = int(b)\n",
    "\n",
    "if a > b :\n",
    "    print(\">\")\n",
    "elif a < b :\n",
    "    print(\"<\")\n",
    "else :\n",
    "    print(\"==\")"
   ]
  },
  {
   "cell_type": "code",
   "execution_count": 4,
   "id": "19b6e446",
   "metadata": {},
   "outputs": [
    {
     "name": "stdout",
     "output_type": "stream",
     "text": [
      "100\n",
      "A\n"
     ]
    }
   ],
   "source": [
    "#9498\n",
    "score = int(input())\n",
    "\n",
    "if score >= 90 and score <= 100 :\n",
    "    print(\"A\")\n",
    "\n",
    "elif score >= 80 and score <= 89 :\n",
    "    print(\"B\")\n",
    "    \n",
    "elif score >= 70 and score <= 79 :\n",
    "    print(\"C\")\n",
    "    \n",
    "elif score >= 60 and score <= 69 :\n",
    "    print(\"D\")\n",
    "    \n",
    "else :\n",
    "    print(\"F\")"
   ]
  },
  {
   "cell_type": "code",
   "execution_count": 6,
   "id": "9d3ecbf4",
   "metadata": {},
   "outputs": [
    {
     "name": "stdout",
     "output_type": "stream",
     "text": [
      "2000\n",
      "1\n"
     ]
    }
   ],
   "source": [
    "#2753\n",
    "year = int(input())\n",
    "\n",
    "if year%4 == 0 and year%100 != 0:\n",
    "    print(\"1\")\n",
    "    \n",
    "elif year%400 == 0:\n",
    "    print(\"1\")\n",
    "    \n",
    "else :\n",
    "    print(\"0\")"
   ]
  },
  {
   "cell_type": "code",
   "execution_count": 9,
   "id": "7c9bf7d9",
   "metadata": {},
   "outputs": [
    {
     "name": "stdout",
     "output_type": "stream",
     "text": [
      "12\n",
      "56\n",
      "1\n"
     ]
    }
   ],
   "source": [
    "#14681\n",
    "x = int(input())\n",
    "y = int(input())\n",
    "\n",
    "if x > 0 and y > 0:\n",
    "    print(\"1\")\n",
    "\n",
    "elif x < 0 and y > 0:\n",
    "    print(\"2\")\n",
    "    \n",
    "elif x < 0 and y < 0:\n",
    "    print(\"3\")\n",
    "    \n",
    "elif x > 0 and y < 0:\n",
    "    print(\"4\")"
   ]
  },
  {
   "cell_type": "code",
   "execution_count": 15,
   "id": "3f2e563a",
   "metadata": {},
   "outputs": [
    {
     "name": "stdout",
     "output_type": "stream",
     "text": [
      "23 40\n",
      "22 55\n"
     ]
    }
   ],
   "source": [
    "#2884\n",
    "h, m = input().split()\n",
    "\n",
    "h = int(h)\n",
    "m = int(m)\n",
    "\n",
    "if m < 45 :\n",
    "    if h == 0 :\n",
    "        h = 23\n",
    "        m += 15\n",
    "        print(\"{0} {1}\".format(h,m))\n",
    "    \n",
    "    else :\n",
    "        h -= 1\n",
    "        m += 15\n",
    "        print(\"{0} {1}\".format(h,m))\n",
    "        \n",
    "else :\n",
    "    m -= 45\n",
    "    print(\"{0} {1}\".format(h,m))"
   ]
  },
  {
   "cell_type": "code",
   "execution_count": 21,
   "id": "9e1dac69",
   "metadata": {},
   "outputs": [
    {
     "name": "stdout",
     "output_type": "stream",
     "text": [
      "14 30\n",
      "20\n",
      "14 50\n"
     ]
    }
   ],
   "source": [
    "#2525\n",
    "a, b = input().split()\n",
    "c = int(input())\n",
    "\n",
    "a = int(a)\n",
    "b = int(b)\n",
    "\n",
    "h = c // 60  \n",
    "m = c % 60\n",
    "\n",
    "if h == 0:\n",
    "    if b + m >= 60:\n",
    "        if a == 23 :\n",
    "            a = 0\n",
    "            b = b + m - 60\n",
    "        else :\n",
    "            a += 1\n",
    "            b = b + m -60\n",
    "            \n",
    "    else : \n",
    "        b += m\n",
    "        \n",
    "else :\n",
    "    if a + h > 23 :\n",
    "        if b + m >= 60 :\n",
    "            a = (a + h + 1) % 24\n",
    "            b = b + m -60\n",
    "        else :\n",
    "            a = (a + h) % 24\n",
    "            b = b + m\n",
    "            \n",
    "    else :\n",
    "        if b + m >= 60 :\n",
    "            if a + h == 23 :\n",
    "                a = 0\n",
    "                b = b + m - 60\n",
    "                \n",
    "            else :\n",
    "                a = a + h + 1\n",
    "                b = b + m - 60\n",
    "                \n",
    "        else :\n",
    "            a = a + h\n",
    "            b = b + m\n",
    "            \n",
    "print(\"{0} {1}\".format(a,b))"
   ]
  },
  {
   "cell_type": "code",
   "execution_count": 29,
   "id": "ee8309b5",
   "metadata": {},
   "outputs": [
    {
     "name": "stdout",
     "output_type": "stream",
     "text": [
      "6 2 5\n",
      "600\n"
     ]
    }
   ],
   "source": [
    "#2480\n",
    "a, b, c = input().split()\n",
    "a = int(a)\n",
    "b = int(b)\n",
    "c = int(c)\n",
    "amount = int()\n",
    "\n",
    "if a == b and b == c:\n",
    "    amount = 10000 + a * 1000\n",
    "\n",
    "elif a == b and b != c:\n",
    "    amount = 1000 + a * 100\n",
    "\n",
    "elif a == c and a != b:\n",
    "    amount = 1000 + a * 100\n",
    "    \n",
    "elif b == c and a != b:\n",
    "    amount = 1000 + b* 100\n",
    "    \n",
    "else :\n",
    "    amount = max(a,b,c) * 100\n",
    "    \n",
    "print(amount)"
   ]
  },
  {
   "cell_type": "code",
   "execution_count": null,
   "id": "19a2c1d2",
   "metadata": {},
   "outputs": [],
   "source": []
  }
 ],
 "metadata": {
  "kernelspec": {
   "display_name": "Python 3 (ipykernel)",
   "language": "python",
   "name": "python3"
  },
  "language_info": {
   "codemirror_mode": {
    "name": "ipython",
    "version": 3
   },
   "file_extension": ".py",
   "mimetype": "text/x-python",
   "name": "python",
   "nbconvert_exporter": "python",
   "pygments_lexer": "ipython3",
   "version": "3.11.7"
  }
 },
 "nbformat": 4,
 "nbformat_minor": 5
}
