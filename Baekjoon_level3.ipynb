{
  "nbformat": 4,
  "nbformat_minor": 0,
  "metadata": {
    "colab": {
      "provenance": [],
      "authorship_tag": "ABX9TyPnEY3HvpDP7AZdO3frxieD",
      "include_colab_link": true
    },
    "kernelspec": {
      "name": "python3",
      "display_name": "Python 3"
    },
    "language_info": {
      "name": "python"
    }
  },
  "cells": [
    {
      "cell_type": "markdown",
      "metadata": {
        "id": "view-in-github",
        "colab_type": "text"
      },
      "source": [
        "<a href=\"https://colab.research.google.com/github/haeeeeuni/baekjoon_practice/blob/baekjoon_level/Baekjoon_level3.ipynb\" target=\"_parent\"><img src=\"https://colab.research.google.com/assets/colab-badge.svg\" alt=\"Open In Colab\"/></a>"
      ]
    },
    {
      "cell_type": "markdown",
      "source": [
        "# 백준 단계별로 풀어보기\n",
        "\n",
        "**3단계 반복문**"
      ],
      "metadata": {
        "id": "bWFjN9r6eZET"
      }
    },
    {
      "cell_type": "code",
      "execution_count": null,
      "metadata": {
        "colab": {
          "base_uri": "https://localhost:8080/"
        },
        "id": "gFglVJ45c0iT",
        "outputId": "da041d2e-0919-4a7f-a038-b2e93e1793a8"
      },
      "outputs": [
        {
          "output_type": "stream",
          "name": "stdout",
          "text": [
            "3\n",
            "3 * 1 = 3\n",
            "3 * 2 = 6\n",
            "3 * 3 = 9\n",
            "3 * 4 = 12\n",
            "3 * 5 = 15\n",
            "3 * 6 = 18\n",
            "3 * 7 = 21\n",
            "3 * 8 = 24\n",
            "3 * 9 = 27\n"
          ]
        }
      ],
      "source": [
        "#2739\n",
        "\n",
        "a = int(input())\n",
        "\n",
        "for i in range(1,10):\n",
        "  print(\"{0} * {1} = {2}\".format(a,i, a*i))"
      ]
    },
    {
      "cell_type": "code",
      "source": [
        "#10950\n",
        "\n",
        "k = int(input())    # # of test case\n",
        "\n",
        "sum = []   #init list a\n",
        "\n",
        "for i in range(0,k) :\n",
        "  x, y = map(int, input().split())\n",
        "  sum.append(x + y)\n",
        "\n",
        "for j in range(len(sum)) :\n",
        "  print(sum[j])"
      ],
      "metadata": {
        "colab": {
          "base_uri": "https://localhost:8080/"
        },
        "id": "gRgInklSdDjn",
        "outputId": "7a32fc65-d15d-4bba-e722-786a2b318e6a"
      },
      "execution_count": null,
      "outputs": [
        {
          "output_type": "stream",
          "name": "stdout",
          "text": [
            "5\n",
            "1 1\n",
            "2 3\n",
            "3 4\n",
            "9 8\n",
            "5 2\n",
            "2\n",
            "5\n",
            "7\n",
            "17\n",
            "7\n"
          ]
        }
      ]
    },
    {
      "cell_type": "code",
      "source": [
        "#8393\n",
        "\n",
        "x = int(input())\n",
        "sum = 0\n",
        "\n",
        "for i in range(1, x+1) :\n",
        "  sum += i\n",
        "\n",
        "print(sum)"
      ],
      "metadata": {
        "colab": {
          "base_uri": "https://localhost:8080/"
        },
        "id": "zY69YWTCfaF0",
        "outputId": "16b90d9d-fd0f-452f-c52c-4ad1861355b0"
      },
      "execution_count": null,
      "outputs": [
        {
          "output_type": "stream",
          "name": "stdout",
          "text": [
            "3\n",
            "6\n"
          ]
        }
      ]
    },
    {
      "cell_type": "code",
      "source": [
        "#25304\n",
        "\n",
        "amount = int(input())     #get total price of receipt\n",
        "n = int(input())\n",
        "sum = 0               #calculate price of receipt\n",
        "\n",
        "for i in range(0,n) :\n",
        "  x, y = map(int, input().split())\n",
        "  sum += x * y\n",
        "\n",
        "if sum == amount :\n",
        "  print(\"Yes\")\n",
        "else :\n",
        "  print(\"No\")"
      ],
      "metadata": {
        "colab": {
          "base_uri": "https://localhost:8080/"
        },
        "id": "t9lqkjKShkx-",
        "outputId": "d17d4f8c-7e70-4519-a2f0-6f8db00e90a5"
      },
      "execution_count": null,
      "outputs": [
        {
          "output_type": "stream",
          "name": "stdout",
          "text": [
            "220000\n",
            "3\n",
            "20000 5\n",
            "30000 2\n",
            "10000 6\n",
            "Yes\n"
          ]
        }
      ]
    },
    {
      "cell_type": "code",
      "source": [
        "#25314\n",
        "\n",
        "n = int(input())\n",
        "k = n // 4\n",
        "\n",
        "for i in range(k) :\n",
        "  print(\"long \", end =\"\")\n",
        "\n",
        "print(\"int\")"
      ],
      "metadata": {
        "colab": {
          "base_uri": "https://localhost:8080/"
        },
        "id": "xGkvbYf3iJn9",
        "outputId": "8faada61-e9e3-47e9-8312-928399f65c42"
      },
      "execution_count": null,
      "outputs": [
        {
          "output_type": "stream",
          "name": "stdout",
          "text": [
            "20\n",
            "long long long long long int\n"
          ]
        }
      ]
    },
    {
      "cell_type": "code",
      "source": [
        "#15552\n",
        "\n",
        "import sys\n",
        "\n",
        "inp = int(input())\n",
        "\n",
        "for i in range(inp):\n",
        "        a,b = map(int, sys.stdin.readline().split())\n",
        "        print(a+b)"
      ],
      "metadata": {
        "id": "FU5z0g8t1BJd"
      },
      "execution_count": null,
      "outputs": []
    },
    {
      "cell_type": "code",
      "source": [
        "#11021\n",
        "\n",
        "k = int(input())    # # of test case\n",
        "\n",
        "sum = []   #init list a\n",
        "\n",
        "for i in range(0,k) :\n",
        "  x, y = map(int, input().split())\n",
        "  sum.append(x + y)\n",
        "\n",
        "for j in range(len(sum)) :\n",
        "  print(\"Case #{0}: {1}\".format(j+1,sum[j]))"
      ],
      "metadata": {
        "colab": {
          "base_uri": "https://localhost:8080/"
        },
        "id": "I9wTY6N9qtrP",
        "outputId": "b0f9fac9-5ea4-4bce-a776-4b3b72343491"
      },
      "execution_count": null,
      "outputs": [
        {
          "output_type": "stream",
          "name": "stdout",
          "text": [
            "5\n",
            "1 1\n",
            "2 3\n",
            "3 4\n",
            "9 8\n",
            "5 2\n",
            "Case #0: 2\n",
            "Case #1: 5\n",
            "Case #2: 7\n",
            "Case #3: 17\n",
            "Case #4: 7\n"
          ]
        }
      ]
    },
    {
      "cell_type": "code",
      "source": [
        "#11022\n",
        "\n",
        "k = int(input())    # # of test case\n",
        "\n",
        "sum = []\n",
        "x = []\n",
        "y = []\n",
        "\n",
        "for i in range(0,k) :\n",
        "  a, b = map(int, input().split())\n",
        "  sum.append(a+b)\n",
        "  x.append(a)\n",
        "  y.append(b)\n",
        "\n",
        "for j in range(len(sum)) :\n",
        "  print(\"Case #{0}: {1} + {2} = {3}\".format(j+1,x[j],y[j],sum[j]))"
      ],
      "metadata": {
        "colab": {
          "base_uri": "https://localhost:8080/"
        },
        "id": "mah_IkYsrdav",
        "outputId": "8ef9e5fb-ad15-439b-fcd7-b75a8f4e8c17"
      },
      "execution_count": null,
      "outputs": [
        {
          "output_type": "stream",
          "name": "stdout",
          "text": [
            "5\n",
            "1 1\n",
            "2 3\n",
            "3 4\n",
            "9 8\n",
            "5 2\n",
            "Case #1: 1 + 1 = 2\n",
            "Case #2: 2 + 3 = 5\n",
            "Case #3: 3 + 4 = 7\n",
            "Case #4: 9 + 8 = 17\n",
            "Case #5: 5 + 2 = 7\n"
          ]
        }
      ]
    },
    {
      "cell_type": "code",
      "source": [
        "#2438\n",
        "\n",
        "n = int(input())\n",
        "\n",
        "for i in range(n) :\n",
        "  star = i+1\n",
        "  print('*'* star)"
      ],
      "metadata": {
        "id": "QdzGRQO7rwhO",
        "colab": {
          "base_uri": "https://localhost:8080/"
        },
        "outputId": "0fb22aeb-63ba-40be-b9b5-885f5c222220"
      },
      "execution_count": 3,
      "outputs": [
        {
          "output_type": "stream",
          "name": "stdout",
          "text": [
            "5\n",
            "*\n",
            "**\n",
            "***\n",
            "****\n",
            "*****\n"
          ]
        }
      ]
    },
    {
      "cell_type": "code",
      "source": [
        "#2439\n",
        "\n",
        "k = int(input())\n",
        "\n",
        "for i in range(k) :\n",
        "  star = '*' * (i + 1)\n",
        "  space = ' ' * (k - i -1)\n",
        "  print(space+star)"
      ],
      "metadata": {
        "colab": {
          "base_uri": "https://localhost:8080/"
        },
        "id": "_z_A9-d8vC33",
        "outputId": "624946e1-fb01-48aa-cbeb-8fb4cdf4b2a7"
      },
      "execution_count": 6,
      "outputs": [
        {
          "output_type": "stream",
          "name": "stdout",
          "text": [
            "5\n",
            "    *\n",
            "   **\n",
            "  ***\n",
            " ****\n",
            "*****\n"
          ]
        }
      ]
    },
    {
      "cell_type": "code",
      "source": [
        "#10952\n",
        "\n",
        "a,b = map(int, input().split())\n",
        "\n",
        "s = a + b\n",
        "sum = []\n",
        "i = 0\n",
        "\n",
        "while s != 0 :\n",
        "  sum.append(s)\n",
        "  i += 1\n",
        "  a,b = map(int, input().split())\n",
        "  s = a + b\n",
        "\n",
        "for i in range(len(sum)):\n",
        "  print(sum[i])"
      ],
      "metadata": {
        "colab": {
          "base_uri": "https://localhost:8080/"
        },
        "id": "M8XMwbisvGOE",
        "outputId": "2d1889f9-e4d1-453b-efdd-dd09ecf1c41a"
      },
      "execution_count": 13,
      "outputs": [
        {
          "output_type": "stream",
          "name": "stdout",
          "text": [
            "1 1\n",
            "2 3\n",
            "0 0\n",
            "2\n",
            "5\n"
          ]
        }
      ]
    },
    {
      "cell_type": "code",
      "source": [
        "#10951\n",
        "\n",
        "sum = []\n",
        "\n",
        "while True:\n",
        "  try:\n",
        "    a,b = map(int, input().split())\n",
        "    sum.append(a+b)\n",
        "  except:\n",
        "    break\n",
        "\n",
        "for i in range(len(sum)):\n",
        "  print(sum[i])"
      ],
      "metadata": {
        "colab": {
          "base_uri": "https://localhost:8080/"
        },
        "id": "D02GEePJzD92",
        "outputId": "b59fc2c7-4d45-4229-fdbd-57cfcf88b069"
      },
      "execution_count": 16,
      "outputs": [
        {
          "output_type": "stream",
          "name": "stdout",
          "text": [
            "1 1\n",
            "2 3\n",
            "3 4\n",
            "4 \n",
            "2\n",
            "5\n",
            "7\n"
          ]
        }
      ]
    }
  ]
}