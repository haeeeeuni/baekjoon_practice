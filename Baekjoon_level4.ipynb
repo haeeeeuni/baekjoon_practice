{
  "nbformat": 4,
  "nbformat_minor": 0,
  "metadata": {
    "colab": {
      "provenance": [],
      "authorship_tag": "ABX9TyOV+Z7Z2QTXHb2flEHky+52",
      "include_colab_link": true
    },
    "kernelspec": {
      "name": "python3",
      "display_name": "Python 3"
    },
    "language_info": {
      "name": "python"
    }
  },
  "cells": [
    {
      "cell_type": "markdown",
      "metadata": {
        "id": "view-in-github",
        "colab_type": "text"
      },
      "source": [
        "<a href=\"https://colab.research.google.com/github/haeeeeuni/baekjoon_practice/blob/baekjoon_level/Baekjoon_level4.ipynb\" target=\"_parent\"><img src=\"https://colab.research.google.com/assets/colab-badge.svg\" alt=\"Open In Colab\"/></a>"
      ]
    },
    {
      "cell_type": "code",
      "execution_count": 6,
      "metadata": {
        "colab": {
          "base_uri": "https://localhost:8080/"
        },
        "id": "bbyW1WmM2mX3",
        "outputId": "6199d125-f0f4-4577-f93d-b6452e99b377"
      },
      "outputs": [
        {
          "output_type": "stream",
          "name": "stdout",
          "text": [
            "11\n",
            "1 4 1 2 4 2 4 2 3 4 4\n",
            "2\n",
            "3\n"
          ]
        }
      ],
      "source": [
        "#10807\n",
        "\n",
        "n = int(input())\n",
        "\n",
        "numbers = list(map(int, input().split()))\n",
        "\n",
        "f = int(input())\n",
        "\n",
        "count = 0\n",
        "\n",
        "for i in range(len(numbers)):\n",
        "  if f == numbers[i] :\n",
        "    count += 1\n",
        "\n",
        "print(count)"
      ]
    },
    {
      "cell_type": "code",
      "source": [
        "#10871\n",
        "\n",
        "n, x = map(int, input().split())\n",
        "\n",
        "numbers = list(map(int, input().split()))\n",
        "\n",
        "for i in range(len(numbers)):\n",
        "  if numbers[i]<x :\n",
        "    print(numbers[i], end = ' ')"
      ],
      "metadata": {
        "colab": {
          "base_uri": "https://localhost:8080/"
        },
        "id": "3YoYTRyp4otV",
        "outputId": "7657e49f-1d80-4a08-86e2-a5db7dbd5c78"
      },
      "execution_count": 8,
      "outputs": [
        {
          "output_type": "stream",
          "name": "stdout",
          "text": [
            "10 5\n",
            "1 10 4 9 2 3 8 5 7 6\n",
            "1 4 2 3 "
          ]
        }
      ]
    },
    {
      "cell_type": "code",
      "source": [
        "#10818\n",
        "\n",
        "n = int(input())\n",
        "\n",
        "numbers = list(map(int, input().split()))\n",
        "\n",
        "min = max = numbers[0]\n",
        "\n",
        "for i in range(n-1) :\n",
        "  k = numbers[i+1]\n",
        "  if k > max :\n",
        "    max = k\n",
        "  elif k < min :\n",
        "    min = k\n",
        "\n",
        "print(min, max)"
      ],
      "metadata": {
        "colab": {
          "base_uri": "https://localhost:8080/"
        },
        "id": "VFT-Pno25-HR",
        "outputId": "3a91aff7-11f2-43b9-b2bb-d4be098fb88e"
      },
      "execution_count": 11,
      "outputs": [
        {
          "output_type": "stream",
          "name": "stdout",
          "text": [
            "5\n",
            "20 10 35 30 7\n",
            "7 35\n"
          ]
        }
      ]
    },
    {
      "cell_type": "code",
      "source": [
        "#2562\n",
        "\n",
        "numbers = []\n",
        "\n",
        "for i in range(9):\n",
        "  numbers.append(int(input()))\n",
        "\n",
        "max = 0\n",
        "index = 0\n",
        "\n",
        "for i in range(9):\n",
        "  k = numbers[i]\n",
        "  if k > max :\n",
        "    max = k\n",
        "    index = i\n",
        "\n",
        "print(max)\n",
        "print(index+1)"
      ],
      "metadata": {
        "colab": {
          "base_uri": "https://localhost:8080/"
        },
        "id": "DC9Vy0Q36gzn",
        "outputId": "cdac453e-e022-42fb-e9ea-7002d94654c1"
      },
      "execution_count": 18,
      "outputs": [
        {
          "output_type": "stream",
          "name": "stdout",
          "text": [
            "3\n",
            "29\n",
            "38\n",
            "12\n",
            "57\n",
            "74\n",
            "40\n",
            "85\n",
            "61\n",
            "85\n",
            "9\n"
          ]
        }
      ]
    },
    {
      "cell_type": "code",
      "source": [
        "#10810\n",
        "\n",
        "n, m = map(int, input().split())\n",
        "\n",
        "basket = [0 for i in range(n)]\n",
        "\n",
        "for i in range(m):\n",
        "  a,b,c = map(int, input().split())\n",
        "  for j in range(a, b+1):\n",
        "    basket[j-1] = c\n",
        "\n",
        "for i in range(len(basket)):\n",
        "  print(basket[i], end =  ' ')"
      ],
      "metadata": {
        "colab": {
          "base_uri": "https://localhost:8080/"
        },
        "id": "VsOgwsjs-XQH",
        "outputId": "9ad46a41-0563-4305-8b6f-393e57052073"
      },
      "execution_count": 39,
      "outputs": [
        {
          "output_type": "stream",
          "name": "stdout",
          "text": [
            "5 4\n",
            "1 2 3\n",
            "3 4 4\n",
            "1 4 1\n",
            "2 2 2\n",
            "1 2 1 1 0 "
          ]
        }
      ]
    },
    {
      "cell_type": "code",
      "source": [
        "#10813\n",
        "\n",
        "n, m = map(int, input().split())\n",
        "\n",
        "basket = [i+1 for i in range(n)]\n",
        "\n",
        "tmp = 0\n",
        "for i in range(m):\n",
        "  a,b = map(int, input().split())\n",
        "  a = a-1\n",
        "  b = b-1\n",
        "\n",
        "  tmp = basket[b]\n",
        "  basket[b] = basket[a]\n",
        "  basket[a] = tmp\n",
        "\n",
        "for i in range(len(basket)):\n",
        "  print(basket[i], end =  ' ')"
      ],
      "metadata": {
        "colab": {
          "base_uri": "https://localhost:8080/"
        },
        "id": "Zd1Uq_q4DSwA",
        "outputId": "e9e268bd-448a-4126-cbf6-36a44e25fd82"
      },
      "execution_count": 45,
      "outputs": [
        {
          "output_type": "stream",
          "name": "stdout",
          "text": [
            "5 4\n",
            "1 2\n",
            "3 4\n",
            "1 4\n",
            "2 2\n",
            "3 1 4 2 5 "
          ]
        }
      ]
    },
    {
      "cell_type": "code",
      "source": [
        "#5597\n",
        "\n",
        "num = [0 for i in range(30)]\n",
        "\n",
        "for i in range(28):\n",
        "  k = int(input())\n",
        "  num[k-1] = 1\n",
        "\n",
        "for i in range(len(num)):\n",
        "  if num[i] == 0 :\n",
        "    print(i+1)\n",
        ""
      ],
      "metadata": {
        "colab": {
          "base_uri": "https://localhost:8080/"
        },
        "id": "HLue16sREtN7",
        "outputId": "95dd4121-4cfa-4cb9-f294-364cec242168"
      },
      "execution_count": 47,
      "outputs": [
        {
          "output_type": "stream",
          "name": "stdout",
          "text": [
            "3\n",
            "1\n",
            "4\n",
            "5\n",
            "7\n",
            "9\n",
            "6\n",
            "10\n",
            "11\n",
            "12\n",
            "13\n",
            "14\n",
            "15\n",
            "16\n",
            "17\n",
            "18\n",
            "19\n",
            "20\n",
            "21\n",
            "22\n",
            "23\n",
            "24\n",
            "25\n",
            "26\n",
            "27\n",
            "28\n",
            "29\n",
            "30\n",
            "2\n",
            "8\n"
          ]
        }
      ]
    },
    {
      "cell_type": "code",
      "source": [
        "#3052\n",
        "\n",
        "remain = []\n",
        "\n",
        "for i in range(10):\n",
        "  k = int(input())\n",
        "  remain.append(k%42)\n",
        "\n",
        "s = set(remain)\n",
        "print(len(s))"
      ],
      "metadata": {
        "colab": {
          "base_uri": "https://localhost:8080/"
        },
        "id": "ujO1WBW-GF7a",
        "outputId": "b9fc27bc-a75c-4aac-aa86-dcdfa5cae8ac"
      },
      "execution_count": 51,
      "outputs": [
        {
          "output_type": "stream",
          "name": "stdout",
          "text": [
            "1\n",
            "2\n",
            "3\n",
            "4\n",
            "5\n",
            "6\n",
            "7\n",
            "8\n",
            "9\n",
            "10\n",
            "10\n"
          ]
        }
      ]
    },
    {
      "cell_type": "code",
      "source": [
        "#10811\n",
        "\n",
        "n, m = map(int, input().split())\n",
        "\n",
        "basket = [i+1 for i in range(n)]\n",
        "tmp = 0\n",
        "\n",
        "for i in range(m):\n",
        "  a,b = map(int, input().split())\n",
        "  tmp = basket[a-1:b]\n",
        "  tmp.reverse()       #reverse(): 배열을 역순으로 reverse 해주는 함수\n",
        "  basket[a-1:b] = tmp\n",
        "\n",
        "for i in range(len(basket)):\n",
        "  print(basket[i], end =  ' ')"
      ],
      "metadata": {
        "colab": {
          "base_uri": "https://localhost:8080/"
        },
        "id": "nfbPchj6HnTF",
        "outputId": "844b76bb-5269-4ff9-c05d-666bb1deeb07"
      },
      "execution_count": 64,
      "outputs": [
        {
          "output_type": "stream",
          "name": "stdout",
          "text": [
            "5 4\n",
            "1 2\n",
            "3 4\n",
            "1 4\n",
            "2 2\n",
            "3 4 1 2 5 "
          ]
        }
      ]
    },
    {
      "cell_type": "code",
      "source": [
        "#1546\n",
        "\n",
        "n = int(input())\n",
        "\n",
        "score = list(map(int, input().split()))\n",
        "\n",
        "max_score = max(score)\n",
        "\n",
        "for i in range(len(score)):\n",
        "  score[i] = score[i]/max_score * 100\n",
        "\n",
        "avg = sum(score)/len(score)\n",
        "\n",
        "print(avg)"
      ],
      "metadata": {
        "colab": {
          "base_uri": "https://localhost:8080/"
        },
        "id": "Zby8W7fcLxzy",
        "outputId": "6fb0d830-77d3-4c23-e50e-1e813d61f0bd"
      },
      "execution_count": 77,
      "outputs": [
        {
          "output_type": "stream",
          "name": "stdout",
          "text": [
            "3\n",
            "40 80 60\n",
            "75.0\n"
          ]
        }
      ]
    }
  ]
}