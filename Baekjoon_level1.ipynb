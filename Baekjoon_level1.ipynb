{
 "cells": [
  {
   "cell_type": "code",
   "execution_count": 1,
   "id": "48f65aac",
   "metadata": {},
   "outputs": [],
   "source": [
    "#Baekjoon_level1 - input/output/four basic operations"
   ]
  },
  {
   "cell_type": "code",
   "execution_count": 2,
   "id": "fd052da0",
   "metadata": {},
   "outputs": [
    {
     "name": "stdout",
     "output_type": "stream",
     "text": [
      "Hello World!\n"
     ]
    }
   ],
   "source": [
    "#2557\n",
    "print('Hello World!')"
   ]
  },
  {
   "cell_type": "code",
   "execution_count": 3,
   "id": "b4ffea12",
   "metadata": {},
   "outputs": [
    {
     "name": "stdout",
     "output_type": "stream",
     "text": [
      "1 2\n",
      "3\n"
     ]
    }
   ],
   "source": [
    "#1000\n",
    "A, B = input().split()\n",
    "\n",
    "A = int(A)\n",
    "B = int(B)\n",
    "\n",
    "print(A + B)"
   ]
  },
  {
   "cell_type": "code",
   "execution_count": 4,
   "id": "79d26ea6",
   "metadata": {},
   "outputs": [
    {
     "name": "stdout",
     "output_type": "stream",
     "text": [
      "6 3\n",
      "3\n"
     ]
    }
   ],
   "source": [
    "#1001\n",
    "a, b = input().split()\n",
    "\n",
    "a = int(a)\n",
    "b = int(b)\n",
    "\n",
    "print(a-b)"
   ]
  },
  {
   "cell_type": "code",
   "execution_count": 5,
   "id": "5fc6474b",
   "metadata": {},
   "outputs": [
    {
     "name": "stdout",
     "output_type": "stream",
     "text": [
      "5 7\n",
      "35\n"
     ]
    }
   ],
   "source": [
    "#10998\n",
    "a, b = input().split()\n",
    "\n",
    "a = int(a)\n",
    "b = int(b)\n",
    "\n",
    "print(a*b)"
   ]
  },
  {
   "cell_type": "code",
   "execution_count": 6,
   "id": "fe4ab6f0",
   "metadata": {},
   "outputs": [
    {
     "name": "stdout",
     "output_type": "stream",
     "text": [
      "8 4\n",
      "2.0\n"
     ]
    }
   ],
   "source": [
    "#1008\n",
    "a,b = input().split()\n",
    "\n",
    "a = int(a)\n",
    "b = int(b)\n",
    "\n",
    "print(a/b)"
   ]
  },
  {
   "cell_type": "code",
   "execution_count": 7,
   "id": "205f7c10",
   "metadata": {},
   "outputs": [
    {
     "name": "stdout",
     "output_type": "stream",
     "text": [
      "3 6\n",
      "9\n",
      "-3\n",
      "18\n",
      "0\n",
      "3\n"
     ]
    }
   ],
   "source": [
    "#10869\n",
    "a,b = input().split()\n",
    "a = int(a)\n",
    "b = int(b)\n",
    "\n",
    "add = a+b\n",
    "sub = a-b\n",
    "mul = a*b\n",
    "div = a//b\n",
    "per = a%b\n",
    "\n",
    "print(\"{0}\" .format(add))\n",
    "print(\"{0}\" .format(sub))\n",
    "print(\"{0}\" .format(mul))\n",
    "print(\"{0}\" .format(div))\n",
    "print(\"{0}\" .format(per))"
   ]
  },
  {
   "cell_type": "code",
   "execution_count": 8,
   "id": "1a6f8cf3",
   "metadata": {},
   "outputs": [
    {
     "name": "stdout",
     "output_type": "stream",
     "text": [
      "357357\n",
      "357357??!\n"
     ]
    }
   ],
   "source": [
    "#10926\n",
    "id = input()\n",
    "\n",
    "print(\"{0}??!\" .format(id))"
   ]
  },
  {
   "cell_type": "code",
   "execution_count": 9,
   "id": "a658057e",
   "metadata": {},
   "outputs": [
    {
     "name": "stdout",
     "output_type": "stream",
     "text": [
      "2024\n",
      "1481\n"
     ]
    }
   ],
   "source": [
    "#18108\n",
    "bud = input()\n",
    "bud = int(bud)\n",
    "\n",
    "print(bud - 543)"
   ]
  },
  {
   "cell_type": "code",
   "execution_count": 10,
   "id": "22817068",
   "metadata": {},
   "outputs": [
    {
     "name": "stdout",
     "output_type": "stream",
     "text": [
      "7 3 4\n",
      "2\n",
      "2\n",
      "1\n",
      "1\n"
     ]
    }
   ],
   "source": [
    "#10430\n",
    "a,b,c = input().split()\n",
    "\n",
    "a = int(a)\n",
    "b = int(b)\n",
    "c = int(c)\n",
    "\n",
    "print((a+b)%c)\n",
    "print(((a%c) + (b%c))%c)\n",
    "print((a*b)%c)\n",
    "print(((a%c) * (b%c))%c)"
   ]
  },
  {
   "cell_type": "code",
   "execution_count": 12,
   "id": "66e36ee1",
   "metadata": {},
   "outputs": [
    {
     "name": "stdout",
     "output_type": "stream",
     "text": [
      "266\n",
      "46\n",
      "1596\n",
      "1064\n",
      "0\n",
      "12236\n"
     ]
    }
   ],
   "source": [
    "#2588\n",
    "a = input()\n",
    "b = input()\n",
    "\n",
    "a = int(a)\n",
    "b = int(b)\n",
    "\n",
    "first = a * (b%10)\n",
    "second = a * ((b%100 - b%10))//10\n",
    "third = a * (b//100)\n",
    "\n",
    "ans = first + 10* second + 100 * third\n",
    "\n",
    "print(first)\n",
    "print(second)\n",
    "print(third)\n",
    "print(ans)\n",
    "\n",
    "#풀이 참고용\n",
    "#a = int(input())\n",
    "#b = input()\n",
    "#b를 string으로 받아서 배열에서 하나씩 가져와서 계산\n",
    "\n",
    "#first = a * int(b[0])\n",
    "#second = a * int(b[2])\n",
    "#third = a * int(b[3])\n",
    "\n",
    "#ans = first + second * 10 + third * 100\n",
    "\n",
    "#print(first)\n",
    "#print(second)\n",
    "#print(third)\n",
    "#print(ans)"
   ]
  },
  {
   "cell_type": "code",
   "execution_count": 13,
   "id": "15055969",
   "metadata": {},
   "outputs": [
    {
     "name": "stdout",
     "output_type": "stream",
     "text": [
      "3 5 76\n",
      "84\n"
     ]
    }
   ],
   "source": [
    "#11382\n",
    "a, b, c = input().split()\n",
    "\n",
    "ans = int(a) + int(b) + int(c)\n",
    "\n",
    "print(ans)"
   ]
  },
  {
   "cell_type": "code",
   "execution_count": 14,
   "id": "8121358a",
   "metadata": {},
   "outputs": [
    {
     "name": "stdout",
     "output_type": "stream",
     "text": [
      "\\    /\\\n",
      " )  ( ')\n",
      "(  /  )\n",
      " \\(__)|\n"
     ]
    }
   ],
   "source": [
    "#10171\n",
    "print(\"\\\\    /\\\\\")\n",
    "print(\" )  ( \\')\")\n",
    "print(\"(  /  )\")\n",
    "print(\" \\\\(__)|\")"
   ]
  },
  {
   "cell_type": "code",
   "execution_count": 15,
   "id": "5d0a48f2",
   "metadata": {},
   "outputs": [
    {
     "name": "stdout",
     "output_type": "stream",
     "text": [
      "|\\_/|\n",
      "|q p|   /}\n",
      "( 0 )\"\"\"\\\n",
      "|\"^\"`    |\n",
      "||_/=\\\\__|\n"
     ]
    }
   ],
   "source": [
    "#10172\n",
    "print(\"|\\\\_/|\")\n",
    "print(\"|q p|   /}\")\n",
    "print(\"( 0 )\\\"\\\"\\\"\\\\\")\n",
    "print(\"|\\\"^\\\"`    |\")\n",
    "print(\"||_/=\\\\\\\\__|\")"
   ]
  }
 ],
 "metadata": {
  "kernelspec": {
   "display_name": "Python 3 (ipykernel)",
   "language": "python",
   "name": "python3"
  },
  "language_info": {
   "codemirror_mode": {
    "name": "ipython",
    "version": 3
   },
   "file_extension": ".py",
   "mimetype": "text/x-python",
   "name": "python",
   "nbconvert_exporter": "python",
   "pygments_lexer": "ipython3",
   "version": "3.11.7"
  }
 },
 "nbformat": 4,
 "nbformat_minor": 5
}
